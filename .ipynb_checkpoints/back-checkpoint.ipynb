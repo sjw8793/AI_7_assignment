{
 "cells": [
  {
   "cell_type": "code",
   "execution_count": 1,
   "id": "99a4b6ff",
   "metadata": {},
   "outputs": [],
   "source": [
    "import pandas as pd\n",
    "import numpy as np"
   ]
  },
  {
   "cell_type": "code",
   "execution_count": 2,
   "id": "dc629c9b",
   "metadata": {},
   "outputs": [],
   "source": [
    "##### 데이터 전처리 #####\n",
    "\n",
    "df = pd.read_csv('pill.csv')\n",
    "df.drop(columns=['Unnamed: 0', 'itemSeq', 'itemImage', 'openDe', 'updateDe'], inplace=True)\n",
    "\n",
    "df.dropna(subset=['efcyQesitm'], inplace=True)\n",
    "\n",
    "PILLS = df['itemName'].values.tolist()"
   ]
  },
  {
   "cell_type": "code",
   "execution_count": 3,
   "id": "b22b98d3",
   "metadata": {},
   "outputs": [],
   "source": [
    "cols = ['atpnWarnQesitm', 'atpnQesitm', 'intrcQesitm']\n",
    "\n",
    "df = df.fillna(' ')\n",
    "df['warn']=df[cols].apply(lambda row:' '.join(row.values.astype(str)), axis=1)\n",
    "df.drop(columns=cols, inplace=True)\n",
    "\n",
    "KEYWORDS = {0:['회사', '제조사'],\n",
    "            1:['이름', '제품명'],\n",
    "            2:['효과', '효능', '약효'],\n",
    "            3:['용법', '복용', '얼마나', '언제', '적정'],\n",
    "            4:['부작용'],\n",
    "            5:['보관'],\n",
    "            6:['주의', '경고', '유의'],}"
   ]
  },
  {
   "cell_type": "code",
   "execution_count": 4,
   "id": "455f6155",
   "metadata": {},
   "outputs": [],
   "source": [
    "##### 유틸리티 함수 #####\n",
    "\n",
    "# 약 이름에 따라 알맞는 row index를 반환\n",
    "def getRIndex(pill):\n",
    "    return df.index[df['itemName'] == pill][0]\n",
    "\n",
    "# 제시된 키워드에 따라 알맞는 column index를 반환\n",
    "def getCIndex(keyword):\n",
    "    for k, v in KEYWORDS.items():\n",
    "        if keyword in v:\n",
    "            return k\n",
    "    return -1\n",
    "\n",
    "# 약 이름과 키워드에 따라 알맞는 data를 반환\n",
    "def getData(pill, keyword):\n",
    "    ridx = getRIndex(pill)\n",
    "    cidx = getCIndex(keyword)\n",
    "    return df.iat[ridx, cidx]\n",
    "\n",
    "def text2list(text):\n",
    "    words = text.split()\n",
    "    \n",
    "    for i in range(len(words)):\n",
    "        if words[i].strip()[-1] in '은는이가을를의':\n",
    "            words[i] = words[i][:-1]\n",
    "    \n",
    "    return words"
   ]
  },
  {
   "cell_type": "code",
   "execution_count": 5,
   "id": "1a149991",
   "metadata": {},
   "outputs": [],
   "source": [
    "##### 주요 기능 함수 #####\n",
    "\n",
    "# 제시된 증상에 맞는 약 이름 list를 반환\n",
    "def whichPill(fac):\n",
    "    pills = []\n",
    "    for i in range(len(df)):\n",
    "        efcy = df.iat[i, 2]\n",
    "        if fac in efcy:\n",
    "            pills.append(df.iat[i, 1])\n",
    "    return pills\n",
    "\n",
    "# 입력 텍스트에 응답 키워드가 들어있는지 확인하여 키워드를 반환\n",
    "# Return -1 for 키워드 없음\n",
    "# Return 0 for 키워드 다수\n",
    "# Return 키워드 for 키워드 하나\n",
    "def text2key(text):\n",
    "    cnt = 0\n",
    "    words = []\n",
    "    for k, v in KEYWORDS.items():\n",
    "        for keyword in v:\n",
    "            if keyword in text:\n",
    "                cnt += 1\n",
    "                words.append(keyword)\n",
    "                break\n",
    "    \n",
    "    if cnt == 0:\n",
    "        return -1\n",
    "    if cnt == 1:\n",
    "        return words[0]\n",
    "    return 0\n",
    "\n",
    "# 입력 텍스트에 약 이름이 들어있는지 확인하여 약 이름을 반환\n",
    "# Return -1 for 약 이름 없음\n",
    "# Return 0 for 약 이름 다수\n",
    "# Return 약 이름 for 약 이름 하나\n",
    "def text2pill(text):\n",
    "    cnt = 0\n",
    "    pills = []\n",
    "    \n",
    "    words = text2list(text)\n",
    "    \n",
    "    for item in words:\n",
    "        for pill in PILLS:\n",
    "            if item in pill:\n",
    "                cnt += 1\n",
    "                pills.append(item)\n",
    "    \n",
    "    if cnt == 0:\n",
    "        return -1\n",
    "    if cnt == 1:\n",
    "        return pills[0]\n",
    "    return 0"
   ]
  },
  {
   "cell_type": "code",
   "execution_count": 6,
   "id": "c207291d",
   "metadata": {},
   "outputs": [],
   "source": [
    "##### 초기 메시지 #####\n",
    "\n",
    "def firstMessage():\n",
    "    res = \"\"\"안녕하세요? 약 도우미 챗봇입니다.\n",
    "약의 보관법, 복용방법, 부작용 등 특정 약에 대해 궁금한 사항부터\n",
    "특정 증상으로 아플 때 어떠한 약의 도움을 받을 수 있는지,\n",
    "약에 관해 궁금한 사항은 무엇이든 물어봐 주세요.\n",
    "\n",
    "예시 1) 약 \"냠냠정\"의 보관법이 궁금할 때: (약 이름, 궁금한 사항)\n",
    "    => 냠냠정의 보관법은 뭐야?\n",
    "    => 냠냠정 보관법\n",
    "    => 냠냠정 어떻게 보관해야 해? 등\n",
    "    \n",
    "예시 2) 배 아플 때 어떤 약을 사야 하는지 궁금할 때: (증상)\n",
    "    => 복통\n",
    "    => 복통약 알려줘\n",
    "    => 복통에 먹는 약 등\"\"\"\n",
    "    \n",
    "    return res"
   ]
  },
  {
   "cell_type": "code",
   "execution_count": 7,
   "id": "6fd44901",
   "metadata": {},
   "outputs": [],
   "source": [
    "##### main격 함수 #####\n",
    "\n",
    "def respond(text):\n",
    "    keyword = text2key(text)\n",
    "    pill = text2pill(text)\n",
    "    if (keyword == -1 or pill == -1):\n",
    "        res = \"무슨 말인지 모르겠어요.\"\n",
    "        return res\n",
    "    elif (keyword == 0 or pill == 0):\n",
    "        res = \"한 번에 하나씩 질문해 주세요.\"\n",
    "        return res\n",
    "    return getData(pill, keyword)"
   ]
  },
  {
   "cell_type": "code",
   "execution_count": 8,
   "id": "5b4f51ce",
   "metadata": {
    "scrolled": true
   },
   "outputs": [
    {
     "name": "stdout",
     "output_type": "stream",
     "text": [
      "아네모정\n",
      "0\n"
     ]
    }
   ],
   "source": [
    "# TEST CODE\n",
    "    \n",
    "text1 = '안녕하세요, 아네모정의 보관은 어떻게 하나요?'\n",
    "text2 = '이지엔 보관방법'\n",
    "text3 = '안녕하세요'\n",
    "text4 = '아네모정 보관방법 제조사'\n",
    "\n",
    "# print(firstMessage())\n",
    "\n",
    "# print(respond(text1))\n",
    "print(text2pill(text1))\n",
    "print(text2pill(text2))\n",
    "# print(respond(text2))\n",
    "# print(respond(text3))\n",
    "# print(respond(text4))\n",
    "# print(whichPill('편두통'))"
   ]
  }
 ],
 "metadata": {
  "kernelspec": {
   "display_name": "Python 3 (ipykernel)",
   "language": "python",
   "name": "python3"
  },
  "language_info": {
   "codemirror_mode": {
    "name": "ipython",
    "version": 3
   },
   "file_extension": ".py",
   "mimetype": "text/x-python",
   "name": "python",
   "nbconvert_exporter": "python",
   "pygments_lexer": "ipython3",
   "version": "3.10.4"
  },
  "vscode": {
   "interpreter": {
    "hash": "5a58c942b0f2dee13ee47bc74b764047c4071295ea589a29b37ee0fe6b47071d"
   }
  }
 },
 "nbformat": 4,
 "nbformat_minor": 5
}

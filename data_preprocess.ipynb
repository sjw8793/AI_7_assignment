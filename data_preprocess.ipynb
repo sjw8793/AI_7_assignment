{
 "cells": [
  {
   "cell_type": "code",
   "execution_count": 1,
   "id": "f3ffb69d",
   "metadata": {},
   "outputs": [],
   "source": [
    "import pandas as pd\n",
    "import re"
   ]
  },
  {
   "cell_type": "code",
   "execution_count": 2,
   "id": "b8944a50",
   "metadata": {},
   "outputs": [],
   "source": [
    "df = pd.read_csv('pill.csv')\n",
    "\n",
    "#불필요한 행 삭제\n",
    "df.drop(columns=['Unnamed: 0', 'itemSeq', 'itemImage', 'openDe', 'updateDe'], inplace=True)\n",
    "\n",
    "# 데이터에 오류가 있는 행 삭제\n",
    "df.dropna(subset=['efcyQesitm'], inplace=True)\n",
    "df.reset_index(drop=True, inplace=True)\n",
    "\n",
    "# 주의사항 한 행으로 병합\n",
    "cols = ['atpnWarnQesitm', 'atpnQesitm', 'intrcQesitm']\n",
    "\n",
    "df = df.fillna('')\n",
    "df['warn']=df[cols].apply(lambda row:''.join(row.values.astype(str)), axis=1)\n",
    "df.drop(columns=cols, inplace=True)\n"
   ]
  },
  {
   "cell_type": "code",
   "execution_count": 3,
   "id": "5080d77c",
   "metadata": {},
   "outputs": [],
   "source": [
    "##### 약 이름 정리 #####\n",
    "\n",
    "pills = df['itemName'].values.tolist()\n",
    "change = {'mg': ['밀리그람', '밀리그램'], 'IU':['아이유'], '뒤까지싹다지우기':['수출명'], '뒤만지우기':['캡슐/정[***/**** IU/mg]', 'mg', '']}\n",
    "elems = ['이부프로펜', '나프록센', '나프록센나트륨', '덱시부프로펜', '아세트아미노펜', '소브레롤', '아세틸시스테인', '히알루론산나트륨', '카페인무수물', '염화나트륨']\n",
    "\n",
    "final = []\n",
    "\n",
    "for item in pills:\n",
    "    # 수출명 삭제\n",
    "    tmp = re.sub('수출명.+', '', item)\n",
    "    # 단위 표기 통일\n",
    "    tmp = re.sub('밀리그람|밀리그램', 'mg', tmp)\n",
    "    tmp = re.sub('밀리리터', 'ml', tmp)\n",
    "    tmp = re.sub('아이유', 'IU', tmp)\n",
    "    # 불필요 성분명 삭제\n",
    "    for elem in elems:\n",
    "        if elem in tmp:\n",
    "            rule = elem + '$'\n",
    "            tmp = re.sub(rule, '', tmp)\n",
    "    # 약 이름 뒤에 붙는 불필요 수식어(성분명 등) 일괄 삭제\n",
    "    tmp = re.sub(r'((캡슐|정|액|시럽)[0-9]*(mg|IU)).+', r'\\1', tmp)\n",
    "    tmp = re.sub(r'([^^](캡슐|정|액|시럽))[^0-9].+', r'\\1', tmp)\n",
    "\n",
    "    final.append(tmp)\n",
    "\n",
    "df['itemName'] = final"
   ]
  },
  {
   "cell_type": "code",
   "execution_count": 4,
   "id": "845b7fad",
   "metadata": {},
   "outputs": [],
   "source": [
    "##### 본문 내용 편집 #####\n",
    "\n",
    "strCol = ['efcyQesitm', 'useMethodQesitm', 'seQesitm', 'depositMethodQesitm', 'warn']\n",
    "size = len(df)\n",
    "\n",
    "for i in range(size):\n",
    "    for col in strCol:\n",
    "        text = df[col][i]\n",
    "        text = re.sub(r'니다([^\\.]|$)', r'니다. \\1', text)\n",
    "        text = re.sub(r'시오([^\\.]|$)', r'시오. \\1', text)\n",
    "        text = text.strip()\n",
    "        df[col][i] = text"
   ]
  },
  {
   "cell_type": "code",
   "execution_count": 5,
   "id": "92f1c21f",
   "metadata": {},
   "outputs": [],
   "source": [
    "df.to_csv('./pill_processed.csv', index=False)"
   ]
  }
 ],
 "metadata": {
  "kernelspec": {
   "display_name": "Python 3.10.4 64-bit",
   "language": "python",
   "name": "python3"
  },
  "language_info": {
   "codemirror_mode": {
    "name": "ipython",
    "version": 3
   },
   "file_extension": ".py",
   "mimetype": "text/x-python",
   "name": "python",
   "nbconvert_exporter": "python",
   "pygments_lexer": "ipython3",
   "version": "3.10.4"
  },
  "vscode": {
   "interpreter": {
    "hash": "5a58c942b0f2dee13ee47bc74b764047c4071295ea589a29b37ee0fe6b47071d"
   }
  }
 },
 "nbformat": 4,
 "nbformat_minor": 5
}
